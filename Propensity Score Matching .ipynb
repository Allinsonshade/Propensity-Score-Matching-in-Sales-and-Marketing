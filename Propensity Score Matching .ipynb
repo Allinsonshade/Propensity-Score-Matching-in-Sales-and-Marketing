{
 "cells": [
  {
   "cell_type": "markdown",
   "id": "ccfeeb39-dfca-485c-8183-4b07add9d1f2",
   "metadata": {},
   "source": [
    "# Propensity Score Matching in Sales and Marketing\n",
    "Propensity Score Matching (PSM) is a statistical technique used to estimate the causal effect of a treatment or intervention, particularly in scenarios where randomization isn’t feasible.\n",
    "\n",
    "In sales and marketing, it helps evaluate the impact of campaigns by addressing selection bias—when customers self-select into treatment groups (e.g., opting into a discount program or seeing targeted ads).\n",
    "\n",
    "PSM involves:\n",
    "Calculating Propensity Scores: Logistic regression estimates the probability of a customer receiving the treatment based on observed factors like age, income, or past spending.\n",
    "Matching: Customers in the treatment group are paired with similar customers in the control group based on their propensity scores.\n",
    "Outcome Comparison: The matched groups are compared to determine the treatment's effect, such as increased sales or improved engagement.\n",
    "Example in Marketing: A retailer launches a loyalty program to boost purchases. Using PSM, they compare purchase behavior between loyalty members (treated) and matched non-members (control). This approach isolates the program’s true impact, controlling for confounding factors like spending habits.\n",
    "PSM enables marketers to make data-driven decisions by offering a clearer view of what drives customer behavior, ensuring campaigns are both effective and efficient.\n"
   ]
  },
  {
   "cell_type": "markdown",
   "id": "5944dd54-eaea-4253-84f5-75c6f93f97bc",
   "metadata": {},
   "source": [
    "## Scenario:\n",
    "A company launched a digital marketing campaign targeting specific customers to increase their purchase rate. We want to evaluate the effectiveness of the campaign (treatment) on sales. Customers self-selected into the campaign, leading to potential confounders like age, income, and past spending."
   ]
  },
  {
   "cell_type": "markdown",
   "id": "45d7a17a-062f-4eb8-97b4-2bba19725541",
   "metadata": {},
   "source": [
    "## Steps:\n",
    "1. Logistic Regression: Estimate the propensity scores.\n",
    "Dependent variable: Treated (1/0)\n",
    "Independent variables: Age, Income, Past_Spend\n",
    "2. Propensity Score Matching: Match treated and untreated customers based on their propensity scores to balance the groups.\n",
    "3. Outcome Analysis: Compare the purchase rate between matched treated and control groups to evaluate the campaign's effect."
   ]
  },
  {
   "cell_type": "code",
   "execution_count": 76,
   "id": "70c009aa-cdab-4b90-a090-b7292bf49ec3",
   "metadata": {},
   "outputs": [],
   "source": [
    "# Importing the libraries\n",
    "import pandas as pd\n",
    "import numpy as np\n",
    "from sklearn.linear_model import LogisticRegression\n",
    "from sklearn.metrics import pairwise_distances\n",
    "from sklearn.model_selection import train_test_split\n",
    "from sklearn.preprocessing import StandardScaler\n",
    "import matplotlib.pyplot as plt\n",
    "import seaborn as sns"
   ]
  },
  {
   "cell_type": "code",
   "execution_count": 77,
   "id": "265b2d2b-1dca-4a54-9ada-2554d7a9b63c",
   "metadata": {},
   "outputs": [
    {
     "data": {
      "text/html": [
       "<div>\n",
       "<style scoped>\n",
       "    .dataframe tbody tr th:only-of-type {\n",
       "        vertical-align: middle;\n",
       "    }\n",
       "\n",
       "    .dataframe tbody tr th {\n",
       "        vertical-align: top;\n",
       "    }\n",
       "\n",
       "    .dataframe thead th {\n",
       "        text-align: right;\n",
       "    }\n",
       "</style>\n",
       "<table border=\"1\" class=\"dataframe\">\n",
       "  <thead>\n",
       "    <tr style=\"text-align: right;\">\n",
       "      <th></th>\n",
       "      <th>CustomerID</th>\n",
       "      <th>Age</th>\n",
       "      <th>Income</th>\n",
       "      <th>Past_Spend</th>\n",
       "      <th>Treated</th>\n",
       "      <th>Purchase</th>\n",
       "    </tr>\n",
       "  </thead>\n",
       "  <tbody>\n",
       "    <tr>\n",
       "      <th>0</th>\n",
       "      <td>C1</td>\n",
       "      <td>25</td>\n",
       "      <td>35000</td>\n",
       "      <td>200</td>\n",
       "      <td>1</td>\n",
       "      <td>1</td>\n",
       "    </tr>\n",
       "    <tr>\n",
       "      <th>1</th>\n",
       "      <td>C2</td>\n",
       "      <td>40</td>\n",
       "      <td>60000</td>\n",
       "      <td>1500</td>\n",
       "      <td>0</td>\n",
       "      <td>0</td>\n",
       "    </tr>\n",
       "    <tr>\n",
       "      <th>2</th>\n",
       "      <td>C3</td>\n",
       "      <td>30</td>\n",
       "      <td>45000</td>\n",
       "      <td>800</td>\n",
       "      <td>1</td>\n",
       "      <td>1</td>\n",
       "    </tr>\n",
       "    <tr>\n",
       "      <th>3</th>\n",
       "      <td>C4</td>\n",
       "      <td>35</td>\n",
       "      <td>50000</td>\n",
       "      <td>1000</td>\n",
       "      <td>0</td>\n",
       "      <td>1</td>\n",
       "    </tr>\n",
       "    <tr>\n",
       "      <th>4</th>\n",
       "      <td>C5</td>\n",
       "      <td>28</td>\n",
       "      <td>40000</td>\n",
       "      <td>500</td>\n",
       "      <td>1</td>\n",
       "      <td>1</td>\n",
       "    </tr>\n",
       "  </tbody>\n",
       "</table>\n",
       "</div>"
      ],
      "text/plain": [
       "  CustomerID  Age  Income  Past_Spend  Treated  Purchase\n",
       "0         C1   25   35000         200        1         1\n",
       "1         C2   40   60000        1500        0         0\n",
       "2         C3   30   45000         800        1         1\n",
       "3         C4   35   50000        1000        0         1\n",
       "4         C5   28   40000         500        1         1"
      ]
     },
     "execution_count": 77,
     "metadata": {},
     "output_type": "execute_result"
    }
   ],
   "source": [
    "#getting a look at the data\n",
    "df = pd.read_excel(\"C:/Users/HP/Downloads/PSM CAMPAIGN DATA.xlsx\")\n",
    "df.head()"
   ]
  },
  {
   "cell_type": "code",
   "execution_count": 80,
   "id": "47d31d60-09c0-46ec-95ab-14018e6114b3",
   "metadata": {},
   "outputs": [
    {
     "data": {
      "text/plain": [
       "CustomerID    0\n",
       "Age           0\n",
       "Income        0\n",
       "Past_Spend    0\n",
       "Treated       0\n",
       "Purchase      0\n",
       "dtype: int64"
      ]
     },
     "execution_count": 80,
     "metadata": {},
     "output_type": "execute_result"
    }
   ],
   "source": [
    "# checking for missing data\n",
    "df.isna().sum()"
   ]
  },
  {
   "cell_type": "code",
   "execution_count": 82,
   "id": "743e0b39-0985-4afb-a6e7-e6be02dc30f3",
   "metadata": {},
   "outputs": [],
   "source": [
    "# Features and target for propensity score calculation\n",
    "X = df[[\"Age\", \"Income\", \"Past_Spend\"]]\n",
    "y = df[\"Treated\"]"
   ]
  },
  {
   "cell_type": "code",
   "execution_count": 84,
   "id": "a0cd775b-bf21-4349-ac14-73a6874cf6b0",
   "metadata": {},
   "outputs": [],
   "source": [
    "# Standardize features for logistic regression\n",
    "scaler = StandardScaler()\n",
    "X_scaled = scaler.fit_transform(X)"
   ]
  },
  {
   "cell_type": "code",
   "execution_count": 86,
   "id": "fec52b4a-c9ff-41ba-a387-3bad8747faac",
   "metadata": {},
   "outputs": [
    {
     "name": "stdout",
     "output_type": "stream",
     "text": [
      "Propensity Scores:\n",
      "    CustomerID  Propensity_Score\n",
      "0          C1          0.613929\n",
      "1          C2          0.588318\n",
      "2          C3          0.614252\n",
      "3          C4          0.592464\n",
      "4          C5          0.610614\n",
      "5          C6          0.593503\n",
      "6          C7          0.625940\n",
      "7          C8          0.602048\n",
      "8          C9          0.590546\n",
      "9         C10          0.462734\n",
      "10        C11          0.564041\n",
      "11        C12          0.942280\n",
      "12        C13          0.521320\n",
      "13        C14          0.633809\n",
      "14        C15          0.582991\n",
      "15        C16          0.606783\n",
      "16        C17          0.673284\n",
      "17        C18          0.641151\n",
      "18        C19          0.628729\n",
      "19        C20          0.596049\n",
      "20        C21          0.561737\n",
      "21        C22          0.442155\n",
      "22        C23          0.539581\n",
      "23        C24          0.981705\n",
      "24        C25          0.746340\n",
      "25        C26          0.647266\n",
      "26        C27          0.497172\n",
      "27        C28          0.559003\n",
      "28        C29          0.445407\n",
      "29        C30          0.512152\n",
      "30        C31          0.568127\n",
      "31        C32          0.623461\n",
      "32        C33          0.680351\n",
      "33        C34          0.518261\n",
      "34        C35          0.393320\n",
      "35        C36          0.487901\n",
      "36        C37          0.457875\n",
      "37        C38          0.834731\n",
      "38        C39          0.565922\n",
      "39        C40          0.633663\n",
      "40        C41          0.605973\n",
      "41        C42          0.677120\n",
      "42        C43          0.570826\n",
      "43        C44          0.423563\n",
      "44        C45          0.387591\n",
      "45        C46          0.559223\n",
      "46        C47          0.662175\n",
      "47        C48          0.670643\n",
      "48        C49          0.462756\n"
     ]
    }
   ],
   "source": [
    "# Logistic regression for propensity scores\n",
    "log_reg = LogisticRegression()\n",
    "log_reg.fit(X_scaled, y)\n",
    "df[\"Propensity_Score\"] = log_reg.predict_proba(X_scaled)[:, 1]\n",
    "\n",
    "print(\"Propensity Scores:\\n\", df[[\"CustomerID\", \"Propensity_Score\"]])"
   ]
  },
  {
   "cell_type": "code",
   "execution_count": 88,
   "id": "e83ad9d0-f9a8-4758-8503-a3f44d5db6a4",
   "metadata": {},
   "outputs": [],
   "source": [
    "# Match treated and untreated based on Propensity Scores\n",
    "treated = df[df[\"Treated\"] == 1]\n",
    "untreated = df[df[\"Treated\"] == 0]\n",
    "\n",
    "# Calculate distances between propensity scores\n",
    "distances = pairwise_distances(\n",
    "    treated[[\"Propensity_Score\"]], untreated[[\"Propensity_Score\"]], metric=\"euclidean\"\n",
    ")"
   ]
  },
  {
   "cell_type": "code",
   "execution_count": 90,
   "id": "d3e02d85-4349-4205-9030-1b7c911c3bf9",
   "metadata": {},
   "outputs": [],
   "source": [
    "# Ensure treated is a copy of the filtered DataFrame to avoid the SettingWithCopyWarning\n",
    "treated = df[df[\"Treated\"] == 1].copy()\n",
    "\n",
    "# Add the \"Match\" column using the index of the nearest untreated customer\n",
    "treated[\"Match\"] = distances.argmin(axis=1)\n",
    "\n",
    "# Use the indices of the nearest untreated customers to extract rows from the untreated DataFrame\n",
    "matched_untreated = untreated.iloc[distances.argmin(axis=1)].reset_index(drop=True)"
   ]
  },
  {
   "cell_type": "code",
   "execution_count": 92,
   "id": "29e52b07-053c-4ff7-803d-9edc9a142eae",
   "metadata": {},
   "outputs": [
    {
     "name": "stdout",
     "output_type": "stream",
     "text": [
      "\n",
      "Matched Data:\n",
      "    CustomerID  Age  Income  Past_Spend  Treated  Purchase  Propensity_Score  \\\n",
      "0          C1   25   35000         200        1         1          0.613929   \n",
      "2          C3   30   45000         800        1         1          0.614252   \n",
      "4          C5   28   40000         500        1         1          0.610614   \n",
      "6          C7   22   30000         100        1         0          0.625940   \n",
      "9         C10   56   89000         720        1         1          0.462734   \n",
      "10        C11   44   95000         900        1         0          0.564041   \n",
      "11        C12   39   35000       15000        1         1          0.942280   \n",
      "13        C14   25   53000         300        1         1          0.633809   \n",
      "15        C16   55  150000        2500        1         0          0.606783   \n",
      "16        C17   29   87000        1200        1         1          0.673284   \n",
      "17        C18   33   70000        1400        1         1          0.641151   \n",
      "19        C20   29   45000         230        1         0          0.596049   \n",
      "21        C22   56   80000         450        1         0          0.442155   \n",
      "23        C24   23  900000        1700        1         0          0.981705   \n",
      "24        C25   50  185000        4500        1         1          0.746340   \n",
      "25        C26   22   45000         300        1         0          0.647266   \n",
      "27        C28   34   40000         300        1         1          0.559003   \n",
      "29        C30   40   30000         430        1         0          0.512152   \n",
      "31        C32   33   80000         790        1         1          0.623461   \n",
      "33        C34   43   55000         540        1         0          0.518261   \n",
      "34        C35   66  105000         450        1         0          0.393320   \n",
      "35        C36   62  130000        1400        1         1          0.487901   \n",
      "37        C38   53  230000        7000        1         1          0.834731   \n",
      "39        C40   29   55000         890        1         1          0.633663   \n",
      "40        C41   33   72000         550        1         0          0.605973   \n",
      "41        C42   26   90000         760        1         0          0.677120   \n",
      "43        C44   54   45000         420        1         1          0.423563   \n",
      "45        C46   38   57000         600        1         0          0.559223   \n",
      "47        C48   43  160000        1900        1         1          0.670643   \n",
      "0          C8   45   65000        2500        0         1          0.602048   \n",
      "1          C8   45   65000        2500        0         1          0.602048   \n",
      "2          C8   45   65000        2500        0         1          0.602048   \n",
      "3         C19   26   50000         400        0         1          0.628729   \n",
      "4         C49   56   85000         800        0         0          0.462756   \n",
      "5         C39   37   67000         390        0         1          0.565922   \n",
      "6         C33   25   75000         980        0         1          0.680351   \n",
      "7         C19   26   50000         400        0         1          0.628729   \n",
      "8          C8   45   65000        2500        0         1          0.602048   \n",
      "9         C33   25   75000         980        0         1          0.680351   \n",
      "10        C19   26   50000         400        0         1          0.628729   \n",
      "11         C6   50   70000        3000        0         1          0.593503   \n",
      "12        C29   56   70000         720        0         1          0.445407   \n",
      "13        C33   25   75000         980        0         1          0.680351   \n",
      "14        C33   25   75000         980        0         1          0.680351   \n",
      "15        C47   32  135000         450        0         1          0.662175   \n",
      "16        C21   44  100000         750        0         1          0.561737   \n",
      "17        C13   42   47000         607        0         0          0.521320   \n",
      "18        C19   26   50000         400        0         1          0.628729   \n",
      "19        C13   42   47000         607        0         0          0.521320   \n",
      "20        C45   67  120000         180        0         1          0.387591   \n",
      "21        C27   45   50000         500        0         1          0.497172   \n",
      "22        C33   25   75000         980        0         1          0.680351   \n",
      "23        C19   26   50000         400        0         1          0.628729   \n",
      "24         C8   45   65000        2500        0         1          0.602048   \n",
      "25        C33   25   75000         980        0         1          0.680351   \n",
      "26        C29   56   70000         720        0         1          0.445407   \n",
      "27        C21   44  100000         750        0         1          0.561737   \n",
      "28        C47   32  135000         450        0         1          0.662175   \n",
      "\n",
      "    Match  \n",
      "0     3.0  \n",
      "2     3.0  \n",
      "4     3.0  \n",
      "6     7.0  \n",
      "9    19.0  \n",
      "10   15.0  \n",
      "11   13.0  \n",
      "13    7.0  \n",
      "15    3.0  \n",
      "16   13.0  \n",
      "17    7.0  \n",
      "19    2.0  \n",
      "21   11.0  \n",
      "23   13.0  \n",
      "24   13.0  \n",
      "25   18.0  \n",
      "27    8.0  \n",
      "29    5.0  \n",
      "31    7.0  \n",
      "33    5.0  \n",
      "34   17.0  \n",
      "35   10.0  \n",
      "37   13.0  \n",
      "39    7.0  \n",
      "40    3.0  \n",
      "41   13.0  \n",
      "43   11.0  \n",
      "45    8.0  \n",
      "47   18.0  \n",
      "0     NaN  \n",
      "1     NaN  \n",
      "2     NaN  \n",
      "3     NaN  \n",
      "4     NaN  \n",
      "5     NaN  \n",
      "6     NaN  \n",
      "7     NaN  \n",
      "8     NaN  \n",
      "9     NaN  \n",
      "10    NaN  \n",
      "11    NaN  \n",
      "12    NaN  \n",
      "13    NaN  \n",
      "14    NaN  \n",
      "15    NaN  \n",
      "16    NaN  \n",
      "17    NaN  \n",
      "18    NaN  \n",
      "19    NaN  \n",
      "20    NaN  \n",
      "21    NaN  \n",
      "22    NaN  \n",
      "23    NaN  \n",
      "24    NaN  \n",
      "25    NaN  \n",
      "26    NaN  \n",
      "27    NaN  \n",
      "28    NaN  \n"
     ]
    }
   ],
   "source": [
    "# Create the matched dataset\n",
    "matched_data = pd.concat([treated, matched_untreated])\n",
    "print(\"\\nMatched Data:\\n\", matched_data)"
   ]
  },
  {
   "cell_type": "code",
   "execution_count": 94,
   "id": "8f755fd5-f5f4-4263-96b8-7752b1c0822f",
   "metadata": {},
   "outputs": [
    {
     "name": "stdout",
     "output_type": "stream",
     "text": [
      "\n",
      "Treated Purchase Rate: 0.5517241379310345\n",
      "Untreated Purchase Rate: 0.896551724137931\n",
      "Campaign Effect: -0.3448275862068966\n"
     ]
    }
   ],
   "source": [
    "# Outcome Analysis: Compare Purchase Rate\n",
    "treated_purchase_rate = matched_data[matched_data[\"Treated\"] == 1][\"Purchase\"].mean()\n",
    "untreated_purchase_rate = matched_data[matched_data[\"Treated\"] == 0][\"Purchase\"].mean()\n",
    "\n",
    "print(f\"\\nTreated Purchase Rate: {treated_purchase_rate}\")\n",
    "print(f\"Untreated Purchase Rate: {untreated_purchase_rate}\")\n",
    "print(f\"Campaign Effect: {treated_purchase_rate - untreated_purchase_rate}\")"
   ]
  },
  {
   "cell_type": "code",
   "execution_count": 98,
   "id": "55dee238-dd99-4093-bd51-6b1a0c8af529",
   "metadata": {},
   "outputs": [
    {
     "data": {
      "image/png": "[encoded data removed]",
      "text/plain": [
       "<Figure size 800x500 with 1 Axes>"
      ]
     },
     "metadata": {},
     "output_type": "display_data"
    }
   ],
   "source": [
    "# Create a bar plot\n",
    "plt.figure(figsize=(8, 5))\n",
    "sns.barplot(x=categories, y=purchase_rates, hue=categories, dodge=False, \n",
    "            palette={\"Treated\": \"#4CAF50\", \"Untreated\": \"#FFC107\"}, legend=False)\n",
    "\n",
    "# Add titles and labels\n",
    "plt.title(\"Purchase Rates: Treated vs. Untreated\", fontsize=16)\n",
    "plt.ylabel(\"Purchase Rate\", fontsize=14)\n",
    "plt.xlabel(\"Group\", fontsize=14)\n",
    "plt.ylim(0, 1)  # Assuming purchase rates are proportions (0 to 1)\n",
    "for i, rate in enumerate(purchase_rates):\n",
    "    plt.text(i, rate + 0.02, f\"{rate:.2%}\", ha=\"center\", fontsize=12)\n",
    "\n",
    "# Display the Campaign Effect as text\n",
    "plt.text(0.5, 0.8, f\"Campaign Effect: {campaign_effect:.2%}\", \n",
    "         fontsize=12, ha=\"center\", bbox=dict(facecolor='white', alpha=0.5))\n",
    "\n",
    "# Show the plot\n",
    "plt.tight_layout()\n",
    "plt.show()"
   ]
  },
  {
   "cell_type": "markdown",
   "id": "be5a3186-e806-4965-b8c1-2d9694ad925b",
   "metadata": {},
   "source": [
    "## Explanation of the Results\n",
    "Treated Purchase Rate: 0.5517 (55.17%)\n",
    "\n",
    "This is the proportion of treated customers who made a purchase.\n",
    "Treated customers are those who were part of the campaign (e.g., exposed to a marketing effort like an email or ad).\n",
    "A purchase rate of ~55% indicates that slightly more than half of the treated customers converted (made a purchase).\n",
    "Untreated Purchase Rate: 0.8966 (89.66%)\n",
    "\n",
    "This is the proportion of untreated customers who made a purchase.\n",
    "Untreated customers are those who were not part of the campaign (e.g., not exposed to the marketing effort).\n",
    "A purchase rate of ~90% suggests that most untreated customers converted, even without exposure to the campaign.\n",
    "Campaign Effect: -0.3448 (-34.48%)\n"
   ]
  },
  {
   "cell_type": "markdown",
   "id": "1475cbc6-01c5-4027-9f19-00d991a197ca",
   "metadata": {},
   "source": [
    "## Insights\n",
    "The untreated group’s high purchase rate (~90%) suggests they might already be highly motivated buyers.\n",
    "This could mean the campaign was unnecessary for these customers.\n"
   ]
  },
  {
   "cell_type": "markdown",
   "id": "13f56495-ee85-4a8d-855c-dfa99c145ded",
   "metadata": {},
   "source": [
    "## Recommendations for Action\n",
    "Reassess Campaign Targeting\n",
    "\n",
    "Was the campaign targeting customers who were already likely to purchase?\n",
    "Consider narrowing the audience to those less likely to purchase without intervention.\n",
    "Evaluate Campaign Content\n",
    "\n",
    "Was the message or creative aligned with customer preferences?\n",
    "Test alternative messages or offers to see if they perform better.\n",
    "Analyze Customer Segments\n",
    "\n",
    "Run an A/B test to validate the findings.\n",
    "Ensure random assignment of treated and untreated groups to reduce biases."
   ]
  },
  {
   "cell_type": "code",
   "execution_count": null,
   "id": "23c63cb7-4a2d-411b-a283-2a77c8a67101",
   "metadata": {},
   "outputs": [],
   "source": []
  }
 ],
 "metadata": {
  "kernelspec": {
   "display_name": "Python 3 (ipykernel)",
   "language": "python",
   "name": "python3"
  },
  "language_info": {
   "codemirror_mode": {
    "name": "ipython",
    "version": 3
   },
   "file_extension": ".py",
   "mimetype": "text/x-python",
   "name": "python",
   "nbconvert_exporter": "python",
   "pygments_lexer": "ipython3",
   "version": "3.12.7"
  }
 },
 "nbformat": 4,
 "nbformat_minor": 5
}
